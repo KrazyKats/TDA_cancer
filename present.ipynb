{
 "cells": [
  {
   "cell_type": "markdown",
   "id": "51ab0628",
   "metadata": {},
   "source": [
    "# SKIP"
   ]
  },
  {
   "cell_type": "code",
   "execution_count": 27,
   "id": "3ec8b0ad",
   "metadata": {},
   "outputs": [],
   "source": [
    "import anndata\n",
    "import os\n",
    "import numpy as np\n",
    "import pandas as pd\n",
    "from sklearn.datasets import make_blobs\n",
    "from sklearn.preprocessing import StandardScaler\n",
    "from sklearn.decomposition import PCA\n",
    "from sklearn.cluster import DBSCAN\n",
    "import kmapper as km\n",
    "import numpy as np\n",
    "import matplotlib.pyplot as plt\n",
    "from ripser import ripser\n",
    "from persim import plot_diagrams\n",
    "from sklearn.decomposition import PCA\n",
    "import anndata\n",
    "import os\n",
    "import numpy as np\n",
    "import pandas as pd"
   ]
  },
  {
   "cell_type": "markdown",
   "id": "cfc8f82a",
   "metadata": {},
   "source": [
    "# SKIP"
   ]
  },
  {
   "cell_type": "code",
   "execution_count": 29,
   "id": "48b7dea3",
   "metadata": {},
   "outputs": [],
   "source": [
    "# Heatmap Generator\n",
    "def heatmap_generator(input_file, output_dir, title):\n",
    "    # Load the .h5ad file (replace with your filename)\n",
    "    input_file = os.path.join('data', 'cancer','dataset.h5ad')\n",
    "    adata = anndata.read_h5ad(input_file)\n",
    "\n",
    "    counts = adata.layers['counts']\n",
    "    counts_df = pd.DataFrame(counts.toarray(), index=adata.obs_names, columns=adata.var_names)\n",
    "    # convert observations to a DataFrame\n",
    "    obs_df = adata.obs.copy()\n",
    "    #Join the counts_df with obs_df\n",
    "    joined_df = obs_df.join(counts_df, how='inner')\n",
    "    # Display the first few rows of the joined DataFrame\n",
    "    print(\"Joined DataFrame:\")\n",
    "    joined_df.head()\n",
    "    # make a big df of all the data\n",
    "    all_data_df = joined_df.copy()\n",
    "\n",
    "    # drop columns n_genes_by_counts,log1p_n_genes_by_counts,total_counts,log1p_total_counts,pct_counts_in_top_50_genes,pct_counts_in_top_100_genes,pct_counts_in_top_200_genes,pct_counts_in_top_500_genes,n_genes,size_factors\n",
    "    all_data_df.drop(columns=['n_genes_by_counts', 'log1p_n_genes_by_counts', 'total_counts',\n",
    "                            'log1p_total_counts', 'pct_counts_in_top_50_genes',\n",
    "                            'pct_counts_in_top_100_genes', 'pct_counts_in_top_200_genes',\n",
    "                            'pct_counts_in_top_500_genes', 'n_genes', 'size_factors'], inplace=True)\n",
    "\n",
    "    # work with all_data_df\n",
    "    # change index name to 'id'\n",
    "    all_data_df.reset_index(inplace=True)\n",
    "    all_data_df.rename(columns={'index': 'id'}, inplace=True)\n",
    "    # set index to id, in_tissue, array_row, array_col\n",
    "    all_data_df.set_index(['id', 'in_tissue', 'array_row', 'array_col'], inplace=True)\n",
    "    # find top 100 genes with greatest variance\n",
    "    top_variance_genes = all_data_df.var().nlargest(100)\n",
    "    # create a new DataFrame with only the top 100 genes\n",
    "    top_variance_genes_df = all_data_df[top_variance_genes.index]\n",
    "    # convert the DataFrame to a array\n",
    "    top_variance_genes_array = top_variance_genes_df.values\n",
    "    # put x and y coordinates in a array\n",
    "    xy_coords_df = all_data_df.reset_index()[['array_row', 'array_col']]\n",
    "    xy_coords_array = xy_coords_df.values\n",
    "    points = xy_coords_array\n",
    "    gene_expr = top_variance_genes_array\n",
    "\n",
    "    spatial_coords = points\n",
    "\n",
    "    # print types\n",
    "    print(\"Points type:\", type(points))\n",
    "    print(\"Gene expression type:\", type(gene_expr))\n",
    "\n",
    "\n",
    "    # spatial_coords = np.concatenate(points, axis=0)\n",
    "    # gene_expr = np.concatenate(gene_expr, axis=0)\n",
    "\n",
    "    # Step 2: PCA on gene expression\n",
    "    pca = PCA(n_components=2)\n",
    "    gene_pca = pca.fit_transform(gene_expr)\n",
    "\n",
    "    # Step 3: Combine spatial and gene PCA data\n",
    "    combined_data = np.hstack([spatial_coords, gene_pca])\n",
    "\n",
    "    # Step 4: Persistent homology\n",
    "    result_spatial = ripser(spatial_coords)\n",
    "    result_combined = ripser(combined_data)\n",
    "\n",
    "    # Step 5: Plot\n",
    "    fig, axs = plt.subplots(1, 2, figsize=(12, 5))\n",
    "    axs[0].set_title(\"Spatial Persistence\")\n",
    "    plot_diagrams(result_spatial[\"dgms\"], show=False, ax=axs[0])\n",
    "\n",
    "    axs[1].set_title(\"Spatial + Gene PCA Persistence\")\n",
    "    plot_diagrams(result_combined[\"dgms\"], show=False, ax=axs[1])\n",
    "\n",
    "    plt.tight_layout()\n",
    "    plt.show()\n",
    "    # convert a list of points to 2 lists of x and y coordinates\n",
    "    x_coords = [point[0] for point in result_combined[\"dgms\"][1]]\n",
    "    y_coords = [point[1] for point in result_combined[\"dgms\"][1]]\n",
    "    coords = np.array([x_coords, y_coords]).T\n",
    "    #rotate the points by 45 degrees clockwise\n",
    "    def rotate_points(points, angle_degrees):\n",
    "        angle_radians = np.radians(angle_degrees)\n",
    "        rotation_matrix = np.array([[np.cos(angle_radians), -np.sin(angle_radians)],\n",
    "                                     [np.sin(angle_radians), np.cos(angle_radians)]])\n",
    "        return points @ rotation_matrix.T\n",
    "    rotated_points = rotate_points(coords, -45)  # Rotate by -45 degrees\n",
    "\n",
    "    # Create a 2D histogram (heatmap) of the rotated points\n",
    "    heatmap, xedges, yedges = np.histogram2d(rotated_points[:, 0], rotated_points[:, 1], bins=50)\n",
    "    # Create a meshgrid for the heatmap\n",
    "    X, Y = np.meshgrid(xedges[:-1], yedges[:-1])\n",
    "    # Plot the heatmap\n",
    "    plt.figure(figsize=(8, 6))\n",
    "    plt.pcolormesh(X, Y, heatmap.T, shading='auto', cmap='viridis')\n",
    "    plt.colorbar(label='Counts')\n",
    "    plt.title(f'2D Histogram Heatmap of {title}')\n",
    "    plt.xlabel('X-axis')\n",
    "    plt.ylabel('Y-axis')\n",
    "\n",
    "    # set yaxis to 0 - 30\n",
    "    # plt.gca().set_ylim(bottom=0, top=30)\n",
    "    # set xaxis to 0 - 100\n",
    "    plt.gca().set_xlim(left=0, right=100)\n",
    "    plt.grid()\n",
    "\n",
    "    # Create output directory if it doesn't exist\n",
    "    if not os.path.exists(output_dir):\n",
    "        os.makedirs(output_dir)\n",
    "\n",
    "    #save the heatmap\n",
    "    output_file = os.path.join(os.getcwd(), output_dir, f\"{title}_heatmap.png\")\n",
    "    plt.savefig(output_file)\n",
    "    print(f\"Heatmap saved to {output_file}\")\n",
    "\n",
    "    plt.show()\n",
    "    return"
   ]
  },
  {
   "cell_type": "markdown",
   "id": "463a82cd",
   "metadata": {},
   "source": [
    "# SKIP"
   ]
  },
  {
   "cell_type": "code",
   "execution_count": 30,
   "id": "fcabc20b",
   "metadata": {},
   "outputs": [],
   "source": [
    "def make_mapper(input_file, output_dir, title):\n",
    "\n",
    "    # Load the .h5ad file (replace with your filename)\n",
    "    input_file = os.path.join('data', 'cancer','dataset.h5ad')\n",
    "    adata = anndata.read_h5ad(input_file)\n",
    "\n",
    "    counts = adata.layers['counts']\n",
    "    counts_df = pd.DataFrame(counts.toarray(), index=adata.obs_names, columns=adata.var_names)\n",
    "    # convert observations to a DataFrame\n",
    "    obs_df = adata.obs.copy()\n",
    "    #Join the counts_df with obs_df\n",
    "    joined_df = obs_df.join(counts_df, how='inner')\n",
    "    # Display the first few rows of the joined DataFrame\n",
    "    print(\"Joined DataFrame:\")\n",
    "    joined_df.head()\n",
    "    # make a big df of all the data\n",
    "    all_data_df = joined_df.copy()\n",
    "\n",
    "    # drop columns n_genes_by_counts,log1p_n_genes_by_counts,total_counts,log1p_total_counts,pct_counts_in_top_50_genes,pct_counts_in_top_100_genes,pct_counts_in_top_200_genes,pct_counts_in_top_500_genes,n_genes,size_factors\n",
    "    all_data_df.drop(columns=['n_genes_by_counts', 'log1p_n_genes_by_counts', 'total_counts',\n",
    "                            'log1p_total_counts', 'pct_counts_in_top_50_genes',\n",
    "                            'pct_counts_in_top_100_genes', 'pct_counts_in_top_200_genes',\n",
    "                            'pct_counts_in_top_500_genes', 'n_genes', 'size_factors'], inplace=True)\n",
    "\n",
    "    # work with all_data_df\n",
    "    # change index name to 'id'\n",
    "    all_data_df.reset_index(inplace=True)\n",
    "    all_data_df.rename(columns={'index': 'id'}, inplace=True)\n",
    "    # set index to id, in_tissue, array_row, array_col\n",
    "    all_data_df.set_index(['id', 'in_tissue', 'array_row', 'array_col'], inplace=True)\n",
    "    # find top 100 genes with greatest variance\n",
    "    top_variance_genes = all_data_df.var().nlargest(100)\n",
    "    # create a new DataFrame with only the top 100 genes\n",
    "    top_variance_genes_df = all_data_df[top_variance_genes.index]\n",
    "\n",
    "    # Step 1: Generate synthetic X10-like gene expression data\n",
    "    # Simulate 3 clusters of cells in 50-dimensional gene space\n",
    "    test = top_variance_genes_df.reset_index(drop=True)\n",
    "    X = StandardScaler().fit_transform(test.values)\n",
    "\n",
    "    # Convert to DataFrame (simulate genes as columns)\n",
    "    gene_names = top_variance_genes_df.columns.tolist()\n",
    "    df = pd.DataFrame(X, columns=gene_names)\n",
    "\n",
    "    # Step 2: Initialize KeplerMapper\n",
    "    mapper = km.KeplerMapper(verbose=1)\n",
    "\n",
    "    # Step 3: Use PCA as lens\n",
    "    lens = mapper.fit_transform(df, projection=PCA(n_components=2))\n",
    "\n",
    "    # Step 4: Create a Mapper graph\n",
    "    graph = mapper.map(\n",
    "        lens,\n",
    "        df.values,\n",
    "        clusterer=DBSCAN(eps=5.0, min_samples=3),\n",
    "        cover=km.Cover(n_cubes=50, perc_overlap=0.5)\n",
    "    )\n",
    "\n",
    "    # Create output directory if it doesn't exist\n",
    "    if not os.path.exists(output_dir):\n",
    "        os.makedirs(output_dir)\n",
    "\n",
    "    # Step 5: Visualize (save HTML)\n",
    "    html_path = os.path.join(os.getcwd(), output_dir, f\"{title}_mapper.html\")\n",
    "    mapper.visualize(\n",
    "        graph,\n",
    "        path_html=html_path,\n",
    "        title=f\"Mapper on X10 Genomic Data ({title})\",\n",
    "    )\n",
    "\n",
    "    def find_connected_components(graph):\n",
    "        \"\"\"\n",
    "        Find all connected components in an undirected graph represented by an adjacency list.\n",
    "\n",
    "        Args:\n",
    "            graph (dict): Dictionary where keys are nodes and values are lists of adjacent nodes.\n",
    "\n",
    "        Returns:\n",
    "            list: List of sets, where each set contains nodes in a connected component.\n",
    "        \"\"\"\n",
    "        def dfs(node, visited, component):\n",
    "            \"\"\"\n",
    "            Depth-First Search to explore all nodes in a connected component.\n",
    "\n",
    "            Args:\n",
    "                node (str): Current node being explored.\n",
    "                visited (set): Set of nodes already visited.\n",
    "                component (set): Current connected component being built.\n",
    "            \"\"\"\n",
    "            visited.add(node)\n",
    "            component.add(node)\n",
    "            # Explore all neighbors\n",
    "            for neighbor in graph.get(node, []):\n",
    "                if neighbor not in visited:\n",
    "                    dfs(neighbor, visited, component)\n",
    "\n",
    "        visited = set()\n",
    "        components = []\n",
    "\n",
    "        # Iterate over all nodes to ensure all components are found\n",
    "        for node in graph:\n",
    "            if node not in visited:\n",
    "                current_component = set()\n",
    "                dfs(node, visited, current_component)\n",
    "                components.append(current_component)\n",
    "\n",
    "        # Add isolated nodes (nodes not in graph keys but in values)\n",
    "        all_nodes = set(graph.keys())\n",
    "        for neighbors in graph.values():\n",
    "            all_nodes.update(neighbors)\n",
    "\n",
    "        for node in all_nodes:\n",
    "            if node not in visited:\n",
    "                components.append({node})\n",
    "                visited.add(node)\n",
    "\n",
    "        return components\n",
    "\n",
    "    # Example usage with the provided data\n",
    "    graph_test = graph['links']\n",
    "\n",
    "    components = find_connected_components(graph_test)\n",
    "\n",
    "    print(f\"Number of connected components: {len(components)}\")\n",
    "    if len(components) > 6:\n",
    "        print(\"I predict cancerous\")\n",
    "    else:\n",
    "        print(\"I predict non-cancerous\")\n",
    "\n",
    "    return html_path  # Return path to HTML file"
   ]
  },
  {
   "cell_type": "markdown",
   "id": "1c26390a",
   "metadata": {},
   "source": [
    "# INPUTS HERE"
   ]
  },
  {
   "cell_type": "code",
   "execution_count": 31,
   "id": "2810d3e8",
   "metadata": {},
   "outputs": [],
   "source": [
    "input_folder = 'data/cancer'\n",
    "input_file_name = 'dataset.h5ad'\n",
    "input_file = os.path.join(os.getcwd(), input_folder, input_file_name)\n",
    "title = 'cancer_dataset'"
   ]
  },
  {
   "cell_type": "markdown",
   "id": "c1394b20",
   "metadata": {},
   "source": [
    "# RUN MAPPER HER"
   ]
  },
  {
   "cell_type": "code",
   "execution_count": 32,
   "id": "70b0fa2f",
   "metadata": {},
   "outputs": [
    {
     "name": "stdout",
     "output_type": "stream",
     "text": [
      "Joined DataFrame:\n",
      "KeplerMapper(verbose=1)\n",
      "..Composing projection pipeline of length 1:\n",
      "\tProjections: PCA(n_components=2)\n",
      "\tDistance matrices: False\n",
      "\tScalers: MinMaxScaler()\n",
      "..Projecting on data shaped (3460, 100)\n",
      "\n",
      "..Projecting data using: \n",
      "\tPCA(n_components=2)\n",
      "\n",
      "\n",
      "..Scaling with: MinMaxScaler()\n",
      "\n",
      "Mapping on data shaped (3460, 100) using lens shaped (3460, 2)\n",
      "\n",
      "Creating 2500 hypercubes.\n",
      "\n",
      "Created 795 edges and 250 nodes in 0:00:10.731035.\n",
      "Wrote visualization to: c:\\Users\\Dzu\\Desktop\\TDA_cancer\\output_html\\cancer_dataset_mapper.html\n",
      "Number of connected components: 8\n",
      "I predict cancerous\n"
     ]
    },
    {
     "data": {
      "text/plain": [
       "'c:\\\\Users\\\\Dzu\\\\Desktop\\\\TDA_cancer\\\\output_html\\\\cancer_dataset_mapper.html'"
      ]
     },
     "execution_count": 32,
     "metadata": {},
     "output_type": "execute_result"
    }
   ],
   "source": [
    "make_mapper(\n",
    "    input_file=input_file,\n",
    "    output_dir='output_html',\n",
    "    title=title\n",
    ")"
   ]
  },
  {
   "cell_type": "markdown",
   "id": "d5deff4c",
   "metadata": {},
   "source": [
    "# RUN HEAT MAP HERE"
   ]
  },
  {
   "cell_type": "code",
   "execution_count": 33,
   "id": "f3dc7c5a",
   "metadata": {},
   "outputs": [
    {
     "name": "stdout",
     "output_type": "stream",
     "text": [
      "Joined DataFrame:\n",
      "Points type: <class 'numpy.ndarray'>\n",
      "Gene expression type: <class 'numpy.ndarray'>\n"
     ]
    },
    {
     "data": {
      "image/png": "[encoded data removed]",
      "text/plain": [
       "<Figure size 1200x500 with 2 Axes>"
      ]
     },
     "metadata": {},
     "output_type": "display_data"
    },
    {
     "name": "stdout",
     "output_type": "stream",
     "text": [
      "Heatmap saved to c:\\Users\\Dzu\\Desktop\\TDA_cancer\\output\\cancer_dataset_heatmap.png\n"
     ]
    },
    {
     "data": {
      "image/png": "[encoded data removed]",
      "text/plain": [
       "<Figure size 800x600 with 2 Axes>"
      ]
     },
     "metadata": {},
     "output_type": "display_data"
    }
   ],
   "source": [
    "heatmap_generator(\n",
    "    input_file=input_file,\n",
    "    output_dir='output',\n",
    "    title=title\n",
    ")"
   ]
  },
  {
   "cell_type": "code",
   "execution_count": null,
   "id": "63fe6cfb",
   "metadata": {},
   "outputs": [],
   "source": []
  },
  {
   "cell_type": "code",
   "execution_count": null,
   "id": "e2688daa",
   "metadata": {},
   "outputs": [],
   "source": []
  }
 ],
 "metadata": {
  "kernelspec": {
   "display_name": "Python 3",
   "language": "python",
   "name": "python3"
  },
  "language_info": {
   "codemirror_mode": {
    "name": "ipython",
    "version": 3
   },
   "file_extension": ".py",
   "mimetype": "text/x-python",
   "name": "python",
   "nbconvert_exporter": "python",
   "pygments_lexer": "ipython3",
   "version": "3.12.6"
  }
 },
 "nbformat": 4,
 "nbformat_minor": 5
}
